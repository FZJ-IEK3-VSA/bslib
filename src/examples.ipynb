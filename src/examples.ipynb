{
 "cells": [
  {
   "cell_type": "code",
   "execution_count": 65,
   "id": "21e7cb69",
   "metadata": {},
   "outputs": [],
   "source": [
    "from models import Battery\n",
    "import matplotlib.pyplot as plt\n",
    "battery = Battery(sys_id='S2')"
   ]
  },
  {
   "cell_type": "code",
   "execution_count": 66,
   "id": "986093ed",
   "metadata": {},
   "outputs": [
    {
     "name": "stdout",
     "output_type": "stream",
     "text": [
      "0.9989512061439025\n"
     ]
    },
    {
     "data": {
      "text/html": [
       "<div>\n",
       "<style scoped>\n",
       "    .dataframe tbody tr th:only-of-type {\n",
       "        vertical-align: middle;\n",
       "    }\n",
       "\n",
       "    .dataframe tbody tr th {\n",
       "        vertical-align: top;\n",
       "    }\n",
       "\n",
       "    .dataframe thead th {\n",
       "        text-align: right;\n",
       "    }\n",
       "</style>\n",
       "<table border=\"1\" class=\"dataframe\">\n",
       "  <thead>\n",
       "    <tr style=\"text-align: right;\">\n",
       "      <th></th>\n",
       "      <th>Test_values</th>\n",
       "      <th>P_BS</th>\n",
       "      <th>SOC</th>\n",
       "    </tr>\n",
       "  </thead>\n",
       "  <tbody>\n",
       "    <tr>\n",
       "      <th>0</th>\n",
       "      <td>3000.0</td>\n",
       "      <td>2998.500000</td>\n",
       "      <td>7.820323</td>\n",
       "    </tr>\n",
       "    <tr>\n",
       "      <th>1</th>\n",
       "      <td>3000.0</td>\n",
       "      <td>2998.500000</td>\n",
       "      <td>15.640647</td>\n",
       "    </tr>\n",
       "    <tr>\n",
       "      <th>2</th>\n",
       "      <td>3000.0</td>\n",
       "      <td>2998.500000</td>\n",
       "      <td>23.460970</td>\n",
       "    </tr>\n",
       "    <tr>\n",
       "      <th>3</th>\n",
       "      <td>3000.0</td>\n",
       "      <td>2998.500000</td>\n",
       "      <td>31.281294</td>\n",
       "    </tr>\n",
       "    <tr>\n",
       "      <th>4</th>\n",
       "      <td>3000.0</td>\n",
       "      <td>2998.500000</td>\n",
       "      <td>39.101617</td>\n",
       "    </tr>\n",
       "    <tr>\n",
       "      <th>...</th>\n",
       "      <td>...</td>\n",
       "      <td>...</td>\n",
       "      <td>...</td>\n",
       "    </tr>\n",
       "    <tr>\n",
       "      <th>35035</th>\n",
       "      <td>-3830.0</td>\n",
       "      <td>2423.429854</td>\n",
       "      <td>13.826647</td>\n",
       "    </tr>\n",
       "    <tr>\n",
       "      <th>35036</th>\n",
       "      <td>-3830.0</td>\n",
       "      <td>-3510.000000</td>\n",
       "      <td>3.312517</td>\n",
       "    </tr>\n",
       "    <tr>\n",
       "      <th>35037</th>\n",
       "      <td>-3830.0</td>\n",
       "      <td>1070.562911</td>\n",
       "      <td>6.089366</td>\n",
       "    </tr>\n",
       "    <tr>\n",
       "      <th>35038</th>\n",
       "      <td>-3830.0</td>\n",
       "      <td>1969.262433</td>\n",
       "      <td>11.238642</td>\n",
       "    </tr>\n",
       "    <tr>\n",
       "      <th>35039</th>\n",
       "      <td>-3830.0</td>\n",
       "      <td>-3510.000000</td>\n",
       "      <td>0.724512</td>\n",
       "    </tr>\n",
       "  </tbody>\n",
       "</table>\n",
       "<p>35040 rows × 3 columns</p>\n",
       "</div>"
      ],
      "text/plain": [
       "       Test_values         P_BS        SOC\n",
       "0           3000.0  2998.500000   7.820323\n",
       "1           3000.0  2998.500000  15.640647\n",
       "2           3000.0  2998.500000  23.460970\n",
       "3           3000.0  2998.500000  31.281294\n",
       "4           3000.0  2998.500000  39.101617\n",
       "...            ...          ...        ...\n",
       "35035      -3830.0  2423.429854  13.826647\n",
       "35036      -3830.0 -3510.000000   3.312517\n",
       "35037      -3830.0  1070.562911   6.089366\n",
       "35038      -3830.0  1969.262433  11.238642\n",
       "35039      -3830.0 -3510.000000   0.724512\n",
       "\n",
       "[35040 rows x 3 columns]"
      ]
     },
     "execution_count": 66,
     "metadata": {},
     "output_type": "execute_result"
    }
   ],
   "source": [
    "# Array for testting with a timestep width of 15 minutes\n",
    "test_values = np.empty(int(525600/15),)\n",
    "test_values[:int(525600/15/2)] = 3000\n",
    "test_values[int(525600/15/2):] = -3830\n",
    "dt = 60*15\n",
    "soc = 0\n",
    "p_bs_list = []\n",
    "soc_list = []\n",
    "for value in test_values:\n",
    "    p_bs, soc = battery.simulate(P_setpoint=value, soc=soc, dt=dt)\n",
    "    p_bs_list.append(p_bs)\n",
    "    soc_list.append(soc)\n",
    "print(max(soc_list))\n",
    "d = {'Test_values':test_values,'P_BS':p_bs_list, 'SOC':soc_list}\n",
    "df = pd.DataFrame(d)\n",
    "df['SOC'] = df['SOC'] * 100\n",
    "df"
   ]
  },
  {
   "cell_type": "code",
   "execution_count": 67,
   "id": "356f7063",
   "metadata": {},
   "outputs": [
    {
     "data": {
      "text/plain": [
       "<AxesSubplot:>"
      ]
     },
     "execution_count": 67,
     "metadata": {},
     "output_type": "execute_result"
    },
    {
     "data": {
      "image/png": "[encoded data removed]",
      "text/plain": [
       "<Figure size 432x288 with 1 Axes>"
      ]
     },
     "metadata": {
      "needs_background": "light"
     },
     "output_type": "display_data"
    }
   ],
   "source": [
    "df['SOC'].plot()"
   ]
  },
  {
   "cell_type": "code",
   "execution_count": null,
   "id": "a717720a",
   "metadata": {},
   "outputs": [],
   "source": [
    "result_power = np.asanyarray(p_bs) - test_values\n",
    "print(result_power)"
   ]
  }
 ],
 "metadata": {
  "kernelspec": {
   "display_name": "Python 3 (ipykernel)",
   "language": "python",
   "name": "python3"
  },
  "language_info": {
   "codemirror_mode": {
    "name": "ipython",
    "version": 3
   },
   "file_extension": ".py",
   "mimetype": "text/x-python",
   "name": "python",
   "nbconvert_exporter": "python",
   "pygments_lexer": "ipython3",
   "version": "3.9.7"
  }
 },
 "nbformat": 4,
 "nbformat_minor": 5
}
