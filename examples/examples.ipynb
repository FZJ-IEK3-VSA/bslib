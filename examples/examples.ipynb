{
 "cells": [
  {
   "cell_type": "code",
   "execution_count": null,
   "metadata": {},
   "outputs": [],
   "source": [
    "import os\n",
    "os.chdir(\"../bslib\")\n",
    "import bslib as bsl"
   ]
  },
  {
   "cell_type": "code",
   "execution_count": null,
   "metadata": {},
   "outputs": [],
   "source": [
    "# Example for generic AC Battery\n",
    "p_inv = 1000    # W\n",
    "e_bat = 1       # kWh\n",
    "BAT = bsl.ACBatMod(system_id=\"SG1\",\n",
    "                   p_inv_custom=p_inv,\n",
    "                   e_bat_custom=e_bat)"
   ]
  },
  {
   "cell_type": "code",
   "execution_count": null,
   "metadata": {},
   "outputs": [],
   "source": [
    "p_load = 750        # W (positive = charging, negative = discharging)\n",
    "results = BAT.simulate(p_load=p_load,\n",
    "             soc=0.5,\n",
    "             dt=60)\n",
    "results"
   ]
  },
  {
   "cell_type": "code",
   "execution_count": null,
   "metadata": {},
   "outputs": [],
   "source": []
  }
 ],
 "metadata": {
  "kernelspec": {
   "display_name": "Python 3.9.7 ('bslib')",
   "language": "python",
   "name": "python3"
  },
  "language_info": {
   "codemirror_mode": {
    "name": "ipython",
    "version": 3
   },
   "file_extension": ".py",
   "mimetype": "text/x-python",
   "name": "python",
   "nbconvert_exporter": "python",
   "pygments_lexer": "ipython3",
   "version": "3.9.7"
  },
  "orig_nbformat": 4,
  "vscode": {
   "interpreter": {
    "hash": "04117a5bb49b3303f8f5f412d8fc62c734d5d51be97036578688a9fe41de4b60"
   }
  }
 },
 "nbformat": 4,
 "nbformat_minor": 2
}
