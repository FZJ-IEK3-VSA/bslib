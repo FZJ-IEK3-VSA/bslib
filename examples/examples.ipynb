{
 "cells": [
  {
   "cell_type": "code",
   "execution_count": 1,
   "id": "daeac309",
   "metadata": {},
   "outputs": [
    {
     "ename": "ModuleNotFoundError",
     "evalue": "No module named 'bslib'",
     "output_type": "error",
     "traceback": [
      "\u001b[0;31m---------------------------------------------------------------------------\u001b[0m",
      "\u001b[0;31mModuleNotFoundError\u001b[0m                       Traceback (most recent call last)",
      "\u001b[0;32m/var/folders/yr/wy627zns1lg8_6_ckxwzy10m0000gn/T/ipykernel_20328/2823888598.py\u001b[0m in \u001b[0;36m<module>\u001b[0;34m\u001b[0m\n\u001b[1;32m      1\u001b[0m \u001b[0;32mimport\u001b[0m \u001b[0mpandas\u001b[0m \u001b[0;32mas\u001b[0m \u001b[0mpd\u001b[0m\u001b[0;34m\u001b[0m\u001b[0;34m\u001b[0m\u001b[0m\n\u001b[1;32m      2\u001b[0m \u001b[0;32mimport\u001b[0m \u001b[0mnumpy\u001b[0m \u001b[0;32mas\u001b[0m \u001b[0mnp\u001b[0m\u001b[0;34m\u001b[0m\u001b[0;34m\u001b[0m\u001b[0m\n\u001b[0;32m----> 3\u001b[0;31m \u001b[0;32mimport\u001b[0m \u001b[0mbslib\u001b[0m\u001b[0;34m.\u001b[0m\u001b[0msrc\u001b[0m\u001b[0;34m.\u001b[0m\u001b[0mmodels\u001b[0m\u001b[0;34m\u001b[0m\u001b[0;34m\u001b[0m\u001b[0m\n\u001b[0m\u001b[1;32m      4\u001b[0m \u001b[0;32mimport\u001b[0m \u001b[0mplotly\u001b[0m\u001b[0;34m\u001b[0m\u001b[0;34m\u001b[0m\u001b[0m\n",
      "\u001b[0;31mModuleNotFoundError\u001b[0m: No module named 'bslib'"
     ]
    }
   ],
   "source": [
    "import pandas as pd\n",
    "import numpy as np\n",
    "import bslib.src.models\n",
    "import plotly"
   ]
  },
  {
   "cell_type": "code",
   "execution_count": null,
   "id": "986093ed",
   "metadata": {},
   "outputs": [],
   "source": [
    "# Array for testting with a timestep width of 15 minutes\n",
    "test_values = np.empty(int(525600/15),)\n",
    "test_values[:int(525600/15/2)] = 5000\n",
    "test_values[int(525600/15/2):] = -5000\n",
    "dt = 60*15\n",
    "p_bs_list = []\n",
    "soc_list = []\n",
    "soc = 0"
   ]
  },
  {
   "cell_type": "code",
   "execution_count": null,
   "id": "19a26cdc",
   "metadata": {},
   "outputs": [],
   "source": [
    "battery = bsl.Battery(sys_id='S2')"
   ]
  },
  {
   "cell_type": "code",
   "execution_count": null,
   "id": "356f7063",
   "metadata": {},
   "outputs": [],
   "source": [
    "p_bs_list = []\n",
    "soc_list = []\n",
    "for value in test_values:\n",
    "    p_bs, soc = battery.simulate(P_setpoint=value, soc=soc, dt=dt)\n",
    "    p_bs_list.append(p_bs)\n",
    "    soc_list.append(soc)"
   ]
  },
  {
   "cell_type": "code",
   "execution_count": null,
   "id": "a717720a",
   "metadata": {},
   "outputs": [],
   "source": [
    "result_power = np.asanyarray(p_bs) - test_values\n",
    "print(result_power)"
   ]
  }
 ],
 "metadata": {
  "kernelspec": {
   "display_name": "Python 3 (ipykernel)",
   "language": "python",
   "name": "python3"
  },
  "language_info": {
   "codemirror_mode": {
    "name": "ipython",
    "version": 3
   },
   "file_extension": ".py",
   "mimetype": "text/x-python",
   "name": "python",
   "nbconvert_exporter": "python",
   "pygments_lexer": "ipython3",
   "version": "3.9.7"
  }
 },
 "nbformat": 4,
 "nbformat_minor": 5
}
